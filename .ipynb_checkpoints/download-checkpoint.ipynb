{
 "cells": [
  {
   "cell_type": "markdown",
   "metadata": {},
   "source": [
    "# Histopathologic"
   ]
  },
  {
   "cell_type": "code",
   "execution_count": 1,
   "metadata": {},
   "outputs": [],
   "source": [
    "%reload_ext autoreload\n",
    "%autoreload 2\n",
    "%matplotlib inline"
   ]
  },
  {
   "cell_type": "code",
   "execution_count": 2,
   "metadata": {},
   "outputs": [],
   "source": [
    "from fastai import *\n",
    "from fastai.vision import *"
   ]
  },
  {
   "cell_type": "code",
   "execution_count": 3,
   "metadata": {},
   "outputs": [],
   "source": [
    "! mkdir -p ~/.kaggle/\n",
    "! mv kaggle.json ~/.kaggle/"
   ]
  },
  {
   "cell_type": "code",
   "execution_count": 4,
   "metadata": {},
   "outputs": [
    {
     "data": {
      "text/plain": [
       "PosixPath('/home/jupyter/.fastai/data/histo')"
      ]
     },
     "execution_count": 4,
     "metadata": {},
     "output_type": "execute_result"
    }
   ],
   "source": [
    "path = Config.data_path()/'histo'\n",
    "path.mkdir(exist_ok=True)\n",
    "path"
   ]
  },
  {
   "cell_type": "code",
   "execution_count": 7,
   "metadata": {},
   "outputs": [
    {
     "name": "stdout",
     "output_type": "stream",
     "text": [
      "Warning: Your Kaggle API key is readable by otherusers on this system! To fix this, you can run'chmod 600 /home/jupyter/.kaggle/kaggle.json'\n",
      "Downloading sample_submission.csv.zip to /home/jupyter/histopathologic\n",
      "  0%|                                               | 0.00/1.33M [00:00<?, ?B/s]\n",
      "100%|██████████████████████████████████████| 1.33M/1.33M [00:00<00:00, 92.4MB/s]\n",
      "Downloading train_labels.csv.zip to /home/jupyter/histopathologic\n",
      " 98%|█████████████████████████████████████▏| 5.00M/5.10M [00:00<00:00, 33.0MB/s]\n",
      "100%|██████████████████████████████████████| 5.10M/5.10M [00:00<00:00, 32.7MB/s]\n",
      "Downloading test.zip to /home/jupyter/histopathologic\n",
      " 99%|██████████████████████████████████████▋| 1.30G/1.30G [00:09<00:00, 159MB/s]\n",
      "100%|███████████████████████████████████████| 1.30G/1.30G [00:09<00:00, 152MB/s]\n",
      "Downloading train.zip to /home/jupyter/histopathologic\n",
      "100%|█████████████████████████████████████▉| 4.98G/4.98G [01:06<00:00, 97.9MB/s]\n",
      "100%|██████████████████████████████████████| 4.98G/4.98G [01:06<00:00, 80.2MB/s]\n"
     ]
    }
   ],
   "source": [
    "! kaggle competitions download -c histopathologic-cancer-detection"
   ]
  },
  {
   "cell_type": "markdown",
   "metadata": {},
   "source": [
    "## "
   ]
  }
 ],
 "metadata": {
  "kernelspec": {
   "display_name": "Python 3",
   "language": "python",
   "name": "python3"
  },
  "language_info": {
   "codemirror_mode": {
    "name": "ipython",
    "version": 3
   },
   "file_extension": ".py",
   "mimetype": "text/x-python",
   "name": "python",
   "nbconvert_exporter": "python",
   "pygments_lexer": "ipython3",
   "version": "3.6.5"
  }
 },
 "nbformat": 4,
 "nbformat_minor": 2
}
